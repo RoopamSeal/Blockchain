{
  "nbformat": 4,
  "nbformat_minor": 0,
  "metadata": {
    "colab": {
      "provenance": [],
      "authorship_tag": "ABX9TyPIrwW7Jz7l/5NUzWIYw6e/",
      "include_colab_link": true
    },
    "kernelspec": {
      "name": "python3",
      "display_name": "Python 3"
    },
    "language_info": {
      "name": "python"
    }
  },
  "cells": [
    {
      "cell_type": "markdown",
      "metadata": {
        "id": "view-in-github",
        "colab_type": "text"
      },
      "source": [
        "<a href=\"https://colab.research.google.com/github/RoopamSeal/Blockchain/blob/main/_Blockchain_.ipynb\" target=\"_parent\"><img src=\"https://colab.research.google.com/assets/colab-badge.svg\" alt=\"Open In Colab\"/></a>"
      ]
    },
    {
      "cell_type": "code",
      "execution_count": null,
      "metadata": {
        "id": "NWaX4WydJWIK"
      },
      "outputs": [],
      "source": [
        "import hashlib\n",
        "import datetime as date"
      ]
    },
    {
      "cell_type": "code",
      "source": [
        "class Block:\n",
        "    def __init__(self, index, timestamp, data, previous_hash):\n",
        "        self.index = index                    #position of the block in the blockchain\n",
        "        self.timestamp = timestamp            #time at which the block was added to the chain\n",
        "        self.data = data                      #data that is stored in the block\n",
        "        self.previous_hash = previous_hash    #cryptographic hash of the previous block in the chain\n",
        "        self.hash = self.calculate_hash()     #cryptographic hash of the current block\n",
        "\n",
        "    def calculate_hash(self):\n",
        "        hash_string = str(self.index) + str(self.timestamp) + str(self.data) + str(self.previous_hash)\n",
        "        return hashlib.sha256(hash_string.encode()).hexdigest()"
      ],
      "metadata": {
        "id": "l_-0oOPu8CNF"
      },
      "execution_count": null,
      "outputs": []
    },
    {
      "cell_type": "code",
      "source": [
        "#This is the list of blocks in the blockchain\n",
        "class Blockchain:\n",
        "    def __init__(self):\n",
        "        self.chain = [self.create_genesis_block()]\n",
        "\n",
        "    def create_genesis_block(self):\n",
        "        return Block(0, date.datetime.now(), \"Genesis Block\", \"0\")\n",
        "\n",
        "    def get_latest_block(self):\n",
        "        return self.chain[-1]\n",
        "\n",
        "    def add_block(self, new_block):\n",
        "        new_block.previous_hash = self.get_latest_block().hash\n",
        "        new_block.hash = new_block.calculate_hash()\n",
        "        self.chain.append(new_block)\n",
        "\n",
        "    def is_valid(self):\n",
        "        for i in range(1, len(self.chain)):\n",
        "            current_block = self.chain[i]\n",
        "            previous_block = self.chain[i-1]\n",
        "\n",
        "            if current_block.hash != current_block.calculate_hash():\n",
        "                return False\n",
        "\n",
        "            if current_block.previous_hash != previous_block.hash:\n",
        "                return False\n",
        "\n",
        "        return True"
      ],
      "metadata": {
        "id": "Nw6JFaXyEW2Y"
      },
      "execution_count": null,
      "outputs": []
    },
    {
      "cell_type": "code",
      "source": [
        "# Create the blockchain\n",
        "blockchain = Blockchain()\n",
        "\n",
        "# Add blocks to the blockchain\n",
        "blockchain.add_block(Block(1, date.datetime.now(), \"Transaction Data 1\", \"\"))\n",
        "blockchain.add_block(Block(2, date.datetime.now(), \"Transaction Data 2\", \"\"))\n",
        "blockchain.add_block(Block(3, date.datetime.now(), \"Transaction Data 3\", \"\"))\n",
        "\n",
        "# Print the contents of the blockchain\n",
        "for block in blockchain.chain:\n",
        "    print(\"Block #\" + str(block.index))\n",
        "    print(\"Timestamp: \" + str(block.timestamp))\n",
        "    print(\"Data: \" + block.data)\n",
        "    print(\"Hash: \" + block.hash)\n",
        "    print(\"Previous Hash: \" + block.previous_hash)\n",
        "    print(\"\\n\")"
      ],
      "metadata": {
        "colab": {
          "base_uri": "https://localhost:8080/"
        },
        "id": "WXWqOkovEhKA",
        "outputId": "75694451-36ee-4493-e2e9-920a6e82896d"
      },
      "execution_count": null,
      "outputs": [
        {
          "output_type": "stream",
          "name": "stdout",
          "text": [
            "Block #0\n",
            "Timestamp: 2024-04-06 06:21:55.621931\n",
            "Data: Genesis Block\n",
            "Hash: f4fc34778be068afc7241913f6cd2debd1d5cfca5a6badca49d9d7369c80aa38\n",
            "Previous Hash: 0\n",
            "\n",
            "\n",
            "Block #1\n",
            "Timestamp: 2024-04-06 06:21:55.622185\n",
            "Data: Transaction Data 1\n",
            "Hash: d8a3b72311a2a4a1c8f6e2e6152877f3c199cb3a012b2669adba2f74a9955c58\n",
            "Previous Hash: f4fc34778be068afc7241913f6cd2debd1d5cfca5a6badca49d9d7369c80aa38\n",
            "\n",
            "\n",
            "Block #2\n",
            "Timestamp: 2024-04-06 06:21:55.622257\n",
            "Data: Transaction Data 2\n",
            "Hash: 713f606ab31f5c182b9f30bf5ad7a5b21c37c5ac49a1909ebeeb9a0ca3471cc3\n",
            "Previous Hash: d8a3b72311a2a4a1c8f6e2e6152877f3c199cb3a012b2669adba2f74a9955c58\n",
            "\n",
            "\n",
            "Block #3\n",
            "Timestamp: 2024-04-06 06:21:55.622311\n",
            "Data: Transaction Data 3\n",
            "Hash: bd08708a5389dfc9e95a3a4104d308d29f06776eeb9b5c436080f2daee04825b\n",
            "Previous Hash: 713f606ab31f5c182b9f30bf5ad7a5b21c37c5ac49a1909ebeeb9a0ca3471cc3\n",
            "\n",
            "\n"
          ]
        }
      ]
    }
  ]
}